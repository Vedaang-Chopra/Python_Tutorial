{
 "cells": [
  {
   "cell_type": "markdown",
   "metadata": {},
   "source": [
    "##                         This is an Introduction to Basic Python Syntax\n"
   ]
  },
  {
   "cell_type": "code",
   "execution_count": 1,
   "metadata": {},
   "outputs": [
    {
     "name": "stdout",
     "output_type": "stream",
     "text": [
      "10\n"
     ]
    },
    {
     "data": {
      "text/plain": [
       "10"
      ]
     },
     "execution_count": 1,
     "metadata": {},
     "output_type": "execute_result"
    }
   ],
   "source": [
    "#Console output and last line Output(Python Output)\n",
    "a=10\n",
    "print(a)\n",
    "a"
   ]
  },
  {
   "cell_type": "code",
   "execution_count": 2,
   "metadata": {},
   "outputs": [
    {
     "name": "stdout",
     "output_type": "stream",
     "text": [
      "Hello World!!!!!\n"
     ]
    }
   ],
   "source": [
    "print(\"Hello World!!!!!\")       #This is printing strings on console"
   ]
  },
  {
   "cell_type": "code",
   "execution_count": 17,
   "metadata": {},
   "outputs": [
    {
     "name": "stdout",
     "output_type": "stream",
     "text": [
      "<class 'str'>\n",
      "<class 'str'>\n"
     ]
    }
   ],
   "source": [
    "a=\"Strings\"                      #Thus charachters and strings are equivalent\n",
    "b='Charachter'\n",
    "print(type(a))\n",
    "print(type(b))\n"
   ]
  },
  {
   "cell_type": "code",
   "execution_count": 16,
   "metadata": {},
   "outputs": [
    {
     "name": "stdout",
     "output_type": "stream",
     "text": [
      "(10+5j),(1+6j)/(3+7j)@"
     ]
    },
    {
     "data": {
      "text/plain": [
       "complex"
      ]
     },
     "execution_count": 16,
     "metadata": {},
     "output_type": "execute_result"
    }
   ],
   "source": [
    "#Use of second paramter of print function\n",
    "a=10+5j\n",
    "b=1+6j\n",
    "c=3+7j\n",
    "d=10\n",
    "print(a,end=\",\")    # Using end we can apply any special charachter to be print after our data has been printed.\n",
    "print(b,end=\"/\")    # The default end parameter is new line charachter. \n",
    "print(c,end=\"@\")\n",
    "type(a)\n"
   ]
  },
  {
   "cell_type": "code",
   "execution_count": 18,
   "metadata": {},
   "outputs": [
    {
     "name": "stdout",
     "output_type": "stream",
     "text": [
      "<class 'str'>\n",
      "<class 'complex'>\n"
     ]
    }
   ],
   "source": [
    "# This is the order excution of cells\n",
    "\n",
    "print(type(a))  #Here the execution order of cells matters Thus if in[7] runs last then output of this cell is string and if  \n",
    "print(type(c))  #runs in[10] last then output is complex.Thus all the cells are linked together and code is shared between cells."
   ]
  },
  {
   "cell_type": "code",
   "execution_count": 24,
   "metadata": {},
   "outputs": [
    {
     "name": "stdout",
     "output_type": "stream",
     "text": [
      "30 40 Hello World!!!!\n",
      "30\n",
      "-10\n",
      "200\n",
      "10\n",
      "0.5\n",
      "0\n",
      "100000000000000000000\n",
      "False\n"
     ]
    }
   ],
   "source": [
    "# Operators\n",
    "a=10\n",
    "b=20\n",
    "c,d=30,40                      #Another assignment technique using comma operator\n",
    "print(c,d,\"Hello World!!!!\")   #This is stacking of variables and data in print function \n",
    "print(a+b)\n",
    "print(a-b)\n",
    "print(a*b)\n",
    "print(a%b)\n",
    "print(a/b)\n",
    "print(a//b)\n",
    "print(a**b)\n",
    "print(a==b) \n",
    "#There is no triple equal to like javascript. Here equality is checked by double equal to.\n"
   ]
  },
  {
   "cell_type": "code",
   "execution_count": null,
   "metadata": {},
   "outputs": [],
   "source": []
  },
  {
   "cell_type": "code",
   "execution_count": null,
   "metadata": {},
   "outputs": [],
   "source": []
  }
 ],
 "metadata": {
  "kernelspec": {
   "display_name": "Python 3",
   "language": "python",
   "name": "python3"
  },
  "language_info": {
   "codemirror_mode": {
    "name": "ipython",
    "version": 3
   },
   "file_extension": ".py",
   "mimetype": "text/x-python",
   "name": "python",
   "nbconvert_exporter": "python",
   "pygments_lexer": "ipython3",
   "version": "3.6.5"
  }
 },
 "nbformat": 4,
 "nbformat_minor": 2
}
